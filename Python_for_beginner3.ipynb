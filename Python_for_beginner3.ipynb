{
 "cells": [
  {
   "cell_type": "code",
   "execution_count": 1,
   "id": "2e41e327",
   "metadata": {},
   "outputs": [
    {
     "name": "stdout",
     "output_type": "stream",
     "text": [
      "비트코인\n"
     ]
    }
   ],
   "source": [
    "#201.\n",
    "def print_coin():\n",
    "    print('비트코인')\n",
    "print_coin()"
   ]
  },
  {
   "cell_type": "code",
   "execution_count": 2,
   "id": "d57393ef",
   "metadata": {},
   "outputs": [
    {
     "name": "stdout",
     "output_type": "stream",
     "text": [
      "비트코인\n"
     ]
    }
   ],
   "source": [
    "#202.\n",
    "print_coin()"
   ]
  },
  {
   "cell_type": "code",
   "execution_count": 3,
   "id": "bc8fc523",
   "metadata": {},
   "outputs": [
    {
     "name": "stdout",
     "output_type": "stream",
     "text": [
      "비트코인\n",
      "비트코인\n",
      "비트코인\n",
      "비트코인\n",
      "비트코인\n",
      "비트코인\n",
      "비트코인\n",
      "비트코인\n",
      "비트코인\n",
      "비트코인\n",
      "비트코인\n",
      "비트코인\n",
      "비트코인\n",
      "비트코인\n",
      "비트코인\n",
      "비트코인\n",
      "비트코인\n",
      "비트코인\n",
      "비트코인\n",
      "비트코인\n",
      "비트코인\n",
      "비트코인\n",
      "비트코인\n",
      "비트코인\n",
      "비트코인\n",
      "비트코인\n",
      "비트코인\n",
      "비트코인\n",
      "비트코인\n",
      "비트코인\n",
      "비트코인\n",
      "비트코인\n",
      "비트코인\n",
      "비트코인\n",
      "비트코인\n",
      "비트코인\n",
      "비트코인\n",
      "비트코인\n",
      "비트코인\n",
      "비트코인\n",
      "비트코인\n",
      "비트코인\n",
      "비트코인\n",
      "비트코인\n",
      "비트코인\n",
      "비트코인\n",
      "비트코인\n",
      "비트코인\n",
      "비트코인\n",
      "비트코인\n",
      "비트코인\n",
      "비트코인\n",
      "비트코인\n",
      "비트코인\n",
      "비트코인\n",
      "비트코인\n",
      "비트코인\n",
      "비트코인\n",
      "비트코인\n",
      "비트코인\n",
      "비트코인\n",
      "비트코인\n",
      "비트코인\n",
      "비트코인\n",
      "비트코인\n",
      "비트코인\n",
      "비트코인\n",
      "비트코인\n",
      "비트코인\n",
      "비트코인\n",
      "비트코인\n",
      "비트코인\n",
      "비트코인\n",
      "비트코인\n",
      "비트코인\n",
      "비트코인\n",
      "비트코인\n",
      "비트코인\n",
      "비트코인\n",
      "비트코인\n",
      "비트코인\n",
      "비트코인\n",
      "비트코인\n",
      "비트코인\n",
      "비트코인\n",
      "비트코인\n",
      "비트코인\n",
      "비트코인\n",
      "비트코인\n",
      "비트코인\n",
      "비트코인\n",
      "비트코인\n",
      "비트코인\n",
      "비트코인\n",
      "비트코인\n",
      "비트코인\n",
      "비트코인\n",
      "비트코인\n",
      "비트코인\n",
      "비트코인\n"
     ]
    }
   ],
   "source": [
    "#203.\n",
    "for _ in range(100):\n",
    "    print_coin()"
   ]
  },
  {
   "cell_type": "code",
   "execution_count": 5,
   "id": "26cdc876",
   "metadata": {},
   "outputs": [
    {
     "name": "stdout",
     "output_type": "stream",
     "text": [
      "비트코인\n",
      "비트코인\n",
      "비트코인\n",
      "비트코인\n",
      "비트코인\n",
      "비트코인\n",
      "비트코인\n",
      "비트코인\n",
      "비트코인\n",
      "비트코인\n",
      "비트코인\n",
      "비트코인\n",
      "비트코인\n",
      "비트코인\n",
      "비트코인\n",
      "비트코인\n",
      "비트코인\n",
      "비트코인\n",
      "비트코인\n",
      "비트코인\n",
      "비트코인\n",
      "비트코인\n",
      "비트코인\n",
      "비트코인\n",
      "비트코인\n",
      "비트코인\n",
      "비트코인\n",
      "비트코인\n",
      "비트코인\n",
      "비트코인\n",
      "비트코인\n",
      "비트코인\n",
      "비트코인\n",
      "비트코인\n",
      "비트코인\n",
      "비트코인\n",
      "비트코인\n",
      "비트코인\n",
      "비트코인\n",
      "비트코인\n",
      "비트코인\n",
      "비트코인\n",
      "비트코인\n",
      "비트코인\n",
      "비트코인\n",
      "비트코인\n",
      "비트코인\n",
      "비트코인\n",
      "비트코인\n",
      "비트코인\n",
      "비트코인\n",
      "비트코인\n",
      "비트코인\n",
      "비트코인\n",
      "비트코인\n",
      "비트코인\n",
      "비트코인\n",
      "비트코인\n",
      "비트코인\n",
      "비트코인\n",
      "비트코인\n",
      "비트코인\n",
      "비트코인\n",
      "비트코인\n",
      "비트코인\n",
      "비트코인\n",
      "비트코인\n",
      "비트코인\n",
      "비트코인\n",
      "비트코인\n",
      "비트코인\n",
      "비트코인\n",
      "비트코인\n",
      "비트코인\n",
      "비트코인\n",
      "비트코인\n",
      "비트코인\n",
      "비트코인\n",
      "비트코인\n",
      "비트코인\n",
      "비트코인\n",
      "비트코인\n",
      "비트코인\n",
      "비트코인\n",
      "비트코인\n",
      "비트코인\n",
      "비트코인\n",
      "비트코인\n",
      "비트코인\n",
      "비트코인\n",
      "비트코인\n",
      "비트코인\n",
      "비트코인\n",
      "비트코인\n",
      "비트코인\n",
      "비트코인\n",
      "비트코인\n",
      "비트코인\n",
      "비트코인\n",
      "비트코인\n"
     ]
    }
   ],
   "source": [
    "#204.\n",
    "def print_coins():\n",
    "    for _ in range(100):\n",
    "        print('비트코인')\n",
    "print_coins()        "
   ]
  },
  {
   "cell_type": "code",
   "execution_count": 6,
   "id": "d811558f",
   "metadata": {},
   "outputs": [
    {
     "ename": "NameError",
     "evalue": "name 'hello' is not defined",
     "output_type": "error",
     "traceback": [
      "\u001b[0;31m---------------------------------------------------------------------------\u001b[0m",
      "\u001b[0;31mNameError\u001b[0m                                 Traceback (most recent call last)",
      "Input \u001b[0;32mIn [6]\u001b[0m, in \u001b[0;36m<cell line: 2>\u001b[0;34m()\u001b[0m\n\u001b[1;32m      1\u001b[0m \u001b[38;5;66;03m#205.\u001b[39;00m\n\u001b[0;32m----> 2\u001b[0m \u001b[43mhello\u001b[49m()\n\u001b[1;32m      3\u001b[0m \u001b[38;5;28;01mdef\u001b[39;00m \u001b[38;5;21mhello\u001b[39m():\n\u001b[1;32m      4\u001b[0m     \u001b[38;5;28mprint\u001b[39m(\u001b[38;5;124m'\u001b[39m\u001b[38;5;124mHi\u001b[39m\u001b[38;5;124m'\u001b[39m)\n",
      "\u001b[0;31mNameError\u001b[0m: name 'hello' is not defined"
     ]
    }
   ],
   "source": [
    "#205.\n",
    "hello()\n",
    "def hello():\n",
    "    print('Hi')\n",
    "# 함수가 정의되기 전에 호출되어서 에러가 발생"
   ]
  },
  {
   "cell_type": "code",
   "execution_count": 7,
   "id": "40c3d94d",
   "metadata": {},
   "outputs": [
    {
     "name": "stdout",
     "output_type": "stream",
     "text": [
      "A\n",
      "B\n",
      "C\n",
      "A\n",
      "B\n"
     ]
    }
   ],
   "source": [
    "#206.\n",
    "def message():\n",
    "    print(\"A\")\n",
    "    print(\"B\")\n",
    "message()\n",
    "print('C')\n",
    "message()"
   ]
  },
  {
   "cell_type": "code",
   "execution_count": 8,
   "id": "1744dfa7",
   "metadata": {},
   "outputs": [
    {
     "name": "stdout",
     "output_type": "stream",
     "text": [
      "A\n",
      "C\n",
      "B\n"
     ]
    }
   ],
   "source": [
    "#207.\n",
    "print(\"A\")\n",
    "\n",
    "def message() :\n",
    "    print(\"B\")\n",
    "\n",
    "print(\"C\")\n",
    "message()\n",
    "#A\n",
    "#C\n",
    "#B"
   ]
  },
  {
   "cell_type": "code",
   "execution_count": 9,
   "id": "9e61647b",
   "metadata": {},
   "outputs": [
    {
     "name": "stdout",
     "output_type": "stream",
     "text": [
      "A\n",
      "C\n",
      "B\n",
      "E\n",
      "D\n"
     ]
    }
   ],
   "source": [
    "#208.\n",
    "print(\"A\")\n",
    "def message1() :\n",
    "    print(\"B\")\n",
    "print(\"C\")\n",
    "def message2() :\n",
    "    print(\"D\")\n",
    "message1()\n",
    "print(\"E\")\n",
    "message2()\n",
    "#A\n",
    "#C\n",
    "#B\n",
    "#E\n",
    "#D\n"
   ]
  },
  {
   "cell_type": "code",
   "execution_count": 10,
   "id": "77758395",
   "metadata": {},
   "outputs": [
    {
     "name": "stdout",
     "output_type": "stream",
     "text": [
      "B\n",
      "A\n"
     ]
    }
   ],
   "source": [
    "#209.\n",
    "def message1():\n",
    "    print(\"A\")\n",
    "\n",
    "def message2():\n",
    "    print(\"B\")\n",
    "    message1()\n",
    "\n",
    "message2()\n",
    "#B\n",
    "#A"
   ]
  },
  {
   "cell_type": "code",
   "execution_count": 11,
   "id": "eb971f24",
   "metadata": {},
   "outputs": [
    {
     "name": "stdout",
     "output_type": "stream",
     "text": [
      "B\n",
      "C\n",
      "B\n",
      "C\n",
      "B\n",
      "C\n",
      "A\n"
     ]
    }
   ],
   "source": [
    "#210.\n",
    "def message1():\n",
    "    print(\"A\")\n",
    "\n",
    "def message2():\n",
    "    print(\"B\")\n",
    "\n",
    "def message3():\n",
    "    for i in range (3) :\n",
    "        message2()\n",
    "        print(\"C\")\n",
    "    message1()\n",
    "\n",
    "message3()\n",
    "\n",
    "#B\n",
    "#c\n",
    "#B\n",
    "#C\n",
    "#B\n",
    "#C\n",
    "#A"
   ]
  },
  {
   "cell_type": "code",
   "execution_count": 1,
   "id": "c44974ae",
   "metadata": {},
   "outputs": [
    {
     "name": "stdout",
     "output_type": "stream",
     "text": [
      "안녕\n",
      "Hi\n"
     ]
    }
   ],
   "source": [
    "#211.\n",
    "def 함수(문자열) :\n",
    "    print(문자열)\n",
    "\n",
    "함수(\"안녕\")\n",
    "함수(\"Hi\")\n",
    "#안녕\n",
    "#Hi"
   ]
  },
  {
   "cell_type": "code",
   "execution_count": 2,
   "id": "0fb39852",
   "metadata": {},
   "outputs": [
    {
     "name": "stdout",
     "output_type": "stream",
     "text": [
      "7\n",
      "15\n"
     ]
    }
   ],
   "source": [
    "#212.\n",
    "def 함수(a, b) :\n",
    "    print(a + b)\n",
    "\n",
    "함수(3, 4)\n",
    "함수(7, 8)\n",
    "#7\n",
    "#15"
   ]
  },
  {
   "cell_type": "code",
   "execution_count": 3,
   "id": "be3981a7",
   "metadata": {},
   "outputs": [
    {
     "ename": "TypeError",
     "evalue": "함수() missing 1 required positional argument: '문자열'",
     "output_type": "error",
     "traceback": [
      "\u001b[0;31m---------------------------------------------------------------------------\u001b[0m",
      "\u001b[0;31mTypeError\u001b[0m                                 Traceback (most recent call last)",
      "Input \u001b[0;32mIn [3]\u001b[0m, in \u001b[0;36m<cell line: 3>\u001b[0;34m()\u001b[0m\n\u001b[1;32m      1\u001b[0m \u001b[38;5;28;01mdef\u001b[39;00m \u001b[38;5;21m함수\u001b[39m(문자열) :\n\u001b[1;32m      2\u001b[0m     \u001b[38;5;28mprint\u001b[39m(문자열)\n\u001b[0;32m----> 3\u001b[0m \u001b[43m함수\u001b[49m\u001b[43m(\u001b[49m\u001b[43m)\u001b[49m\n",
      "\u001b[0;31mTypeError\u001b[0m: 함수() missing 1 required positional argument: '문자열'"
     ]
    }
   ],
   "source": [
    "#213.\n",
    "def 함수(문자열) :\n",
    "    print(문자열)\n",
    "함수()\n",
    "# 함수에 정의와 다르게 함수를 호출하고 있다. 함수를 호출할 때 하나의 파라미터를 입력해야한다."
   ]
  },
  {
   "cell_type": "code",
   "execution_count": 4,
   "id": "fffe6b82",
   "metadata": {},
   "outputs": [
    {
     "ename": "TypeError",
     "evalue": "can only concatenate str (not \"int\") to str",
     "output_type": "error",
     "traceback": [
      "\u001b[0;31m---------------------------------------------------------------------------\u001b[0m",
      "\u001b[0;31mTypeError\u001b[0m                                 Traceback (most recent call last)",
      "Input \u001b[0;32mIn [4]\u001b[0m, in \u001b[0;36m<cell line: 5>\u001b[0;34m()\u001b[0m\n\u001b[1;32m      2\u001b[0m \u001b[38;5;28;01mdef\u001b[39;00m \u001b[38;5;21m함수\u001b[39m(a, b) :\n\u001b[1;32m      3\u001b[0m     \u001b[38;5;28mprint\u001b[39m(a \u001b[38;5;241m+\u001b[39m b)\n\u001b[0;32m----> 5\u001b[0m \u001b[43m함수\u001b[49m\u001b[43m(\u001b[49m\u001b[38;5;124;43m\"\u001b[39;49m\u001b[38;5;124;43m안녕\u001b[39;49m\u001b[38;5;124;43m\"\u001b[39;49m\u001b[43m,\u001b[49m\u001b[43m \u001b[49m\u001b[38;5;241;43m3\u001b[39;49m\u001b[43m)\u001b[49m\n",
      "Input \u001b[0;32mIn [4]\u001b[0m, in \u001b[0;36m함수\u001b[0;34m(a, b)\u001b[0m\n\u001b[1;32m      2\u001b[0m \u001b[38;5;28;01mdef\u001b[39;00m \u001b[38;5;21m함수\u001b[39m(a, b) :\n\u001b[0;32m----> 3\u001b[0m     \u001b[38;5;28mprint\u001b[39m(\u001b[43ma\u001b[49m\u001b[43m \u001b[49m\u001b[38;5;241;43m+\u001b[39;49m\u001b[43m \u001b[49m\u001b[43mb\u001b[49m)\n",
      "\u001b[0;31mTypeError\u001b[0m: can only concatenate str (not \"int\") to str"
     ]
    }
   ],
   "source": [
    "#214.\n",
    "def 함수(a, b) :\n",
    "    print(a + b)\n",
    "\n",
    "함수(\"안녕\", 3)\n",
    "#함수 인자 a 위치에 문자열이 아니라 실수를 줘야 한다."
   ]
  },
  {
   "cell_type": "code",
   "execution_count": 5,
   "id": "69c6389c",
   "metadata": {},
   "outputs": [],
   "source": [
    "#215.\n",
    "def print_with_smile(a):\n",
    "    print(a+':D')"
   ]
  },
  {
   "cell_type": "code",
   "execution_count": 6,
   "id": "79de8695",
   "metadata": {},
   "outputs": [
    {
     "name": "stdout",
     "output_type": "stream",
     "text": [
      "안녕하세요:D\n"
     ]
    }
   ],
   "source": [
    "#216.\n",
    "print_with_smile('안녕하세요')"
   ]
  },
  {
   "cell_type": "code",
   "execution_count": 7,
   "id": "d91089c6",
   "metadata": {},
   "outputs": [],
   "source": [
    "#217.\n",
    "def print_sum(a):\n",
    "    print(a*1.3)"
   ]
  },
  {
   "cell_type": "code",
   "execution_count": 8,
   "id": "a6c1b57d",
   "metadata": {},
   "outputs": [],
   "source": [
    "#218.\n",
    "def print_sum(a,b):\n",
    "    print(a+b)"
   ]
  },
  {
   "cell_type": "code",
   "execution_count": 9,
   "id": "fc63737f",
   "metadata": {},
   "outputs": [
    {
     "name": "stdout",
     "output_type": "stream",
     "text": [
      "7\n",
      "-1\n",
      "12\n",
      "0.75\n"
     ]
    }
   ],
   "source": [
    "#219.\n",
    "def print_arithmetic_operation(a,b):\n",
    "    print(a+b)\n",
    "    print(a-b)\n",
    "    print(a*b)\n",
    "    print(a/b)\n",
    "print_arithmetic_operation(3,4)"
   ]
  },
  {
   "cell_type": "code",
   "execution_count": 10,
   "id": "c7d83354",
   "metadata": {},
   "outputs": [
    {
     "name": "stdout",
     "output_type": "stream",
     "text": [
      "7\n"
     ]
    }
   ],
   "source": [
    "#220.\n",
    "def print_max(a,b,c):\n",
    "    max_v = 0\n",
    "    if a>max_v:\n",
    "        max_v = a\n",
    "    if b>max_v:\n",
    "        max_v = b\n",
    "    if c>max_v:\n",
    "        max_v = c\n",
    "    print(max_v)\n",
    "print_max(3,-3,7)"
   ]
  },
  {
   "cell_type": "code",
   "execution_count": 1,
   "id": "2a77ee2b",
   "metadata": {},
   "outputs": [
    {
     "name": "stdout",
     "output_type": "stream",
     "text": [
      "nohtyp\n"
     ]
    }
   ],
   "source": [
    "#221.\n",
    "def print_reverse(a):\n",
    "    print(a[::-1])\n",
    "print_reverse('python')"
   ]
  },
  {
   "cell_type": "code",
   "execution_count": 2,
   "id": "9101c06c",
   "metadata": {},
   "outputs": [
    {
     "name": "stdout",
     "output_type": "stream",
     "text": [
      "2.0\n"
     ]
    }
   ],
   "source": [
    "#222.\n",
    "def print_score(a):\n",
    "    print(sum(a)/len(a))\n",
    "print_score([1,2,3])"
   ]
  },
  {
   "cell_type": "code",
   "execution_count": 7,
   "id": "f80d8599",
   "metadata": {},
   "outputs": [
    {
     "name": "stdout",
     "output_type": "stream",
     "text": [
      "2\n",
      "10\n",
      "12\n"
     ]
    }
   ],
   "source": [
    "#223.\n",
    "def print_even(a):\n",
    "    for i in a:\n",
    "        if i%2!=0:\n",
    "            continue\n",
    "        else:\n",
    "            print(i)\n",
    "print_even([1,3,2,10,12,11,15])"
   ]
  },
  {
   "cell_type": "code",
   "execution_count": 9,
   "id": "41147641",
   "metadata": {},
   "outputs": [
    {
     "name": "stdout",
     "output_type": "stream",
     "text": [
      "이름\n",
      "나이\n",
      "성별\n"
     ]
    }
   ],
   "source": [
    "#224.\n",
    "def print_keys(a):\n",
    "    for k in a.keys():\n",
    "        print(k)\n",
    "print_keys({\"이름\":\"김말똥\", \"나이\":30, '성별':0})\n",
    "    "
   ]
  },
  {
   "cell_type": "code",
   "execution_count": 13,
   "id": "aa13cb0a",
   "metadata": {},
   "outputs": [
    {
     "name": "stdout",
     "output_type": "stream",
     "text": [
      "[100, 130, 100, 100]\n"
     ]
    }
   ],
   "source": [
    "#225.\n",
    "my_dict = {\"10/26\" : [100, 130, 100, 100],\n",
    "           \"10/27\" : [10, 12, 10, 11]}\n",
    "def print_value_by_key(a,b):\n",
    "    for i in a.keys():\n",
    "        if i == b:\n",
    "            print(a[i])\n",
    "print_value_by_key(my_dict,\"10/26\")\n",
    "    "
   ]
  },
  {
   "cell_type": "code",
   "execution_count": 15,
   "id": "651c6fa5",
   "metadata": {},
   "outputs": [
    {
     "name": "stdout",
     "output_type": "stream",
     "text": [
      "아이엠어보\n",
      "이유알어걸\n",
      "\n"
     ]
    }
   ],
   "source": [
    "#226.\n",
    "def print_5xn(a):\n",
    "    i = int(len(a)/5)\n",
    "    for x in range(i+1):\n",
    "        print(a[x*5:x*5+5])\n",
    "print_5xn(\"아이엠어보이유알어걸\")"
   ]
  },
  {
   "cell_type": "code",
   "execution_count": 16,
   "id": "b35014bb",
   "metadata": {},
   "outputs": [
    {
     "name": "stdout",
     "output_type": "stream",
     "text": [
      "아이엠\n",
      "어보이\n",
      "유알어\n",
      "걸\n"
     ]
    }
   ],
   "source": [
    "#227\n",
    "def print_mxn(a,b):\n",
    "    i = int(len(a)/b)\n",
    "    for x in range(i+1):\n",
    "        print(a[x*b:x*b+b])\n",
    "print_mxn('아이엠어보이유알어걸',3)"
   ]
  },
  {
   "cell_type": "code",
   "execution_count": 18,
   "id": "ab4d6e5b",
   "metadata": {},
   "outputs": [
    {
     "name": "stdout",
     "output_type": "stream",
     "text": [
      "1000000\n"
     ]
    }
   ],
   "source": [
    "#228.\n",
    "def cal_monthly_salary(a):\n",
    "    pay = int(a/12)\n",
    "    return pay\n",
    "print(cal_monthly_salary(12000000))"
   ]
  },
  {
   "cell_type": "code",
   "execution_count": 19,
   "id": "103d5e46",
   "metadata": {},
   "outputs": [
    {
     "name": "stdout",
     "output_type": "stream",
     "text": [
      "왼쪽: 100\n",
      "오른쪽: 200\n"
     ]
    }
   ],
   "source": [
    "#229.\n",
    "def my_print (a, b) :\n",
    "    print(\"왼쪽:\", a)\n",
    "    print(\"오른쪽:\", b)\n",
    "\n",
    "my_print(a=100, b=200)\n"
   ]
  },
  {
   "cell_type": "code",
   "execution_count": 20,
   "id": "9a9ad085",
   "metadata": {},
   "outputs": [
    {
     "name": "stdout",
     "output_type": "stream",
     "text": [
      "왼쪽: 200\n",
      "오른쪽: 100\n"
     ]
    }
   ],
   "source": [
    "#230.\n",
    "def my_print (a, b) :\n",
    "    print(\"왼쪽:\", a)\n",
    "    print(\"오른쪽:\", b)\n",
    "\n",
    "my_print(b=100, a=200)"
   ]
  },
  {
   "cell_type": "code",
   "execution_count": 1,
   "id": "b711513e",
   "metadata": {},
   "outputs": [
    {
     "ename": "NameError",
     "evalue": "name 'result' is not defined",
     "output_type": "error",
     "traceback": [
      "\u001b[0;31m---------------------------------------------------------------------------\u001b[0m",
      "\u001b[0;31mNameError\u001b[0m                                 Traceback (most recent call last)",
      "Input \u001b[0;32mIn [1]\u001b[0m, in \u001b[0;36m<cell line: 6>\u001b[0;34m()\u001b[0m\n\u001b[1;32m      3\u001b[0m     result \u001b[38;5;241m=\u001b[39m n \u001b[38;5;241m+\u001b[39m \u001b[38;5;241m1\u001b[39m\n\u001b[1;32m      5\u001b[0m n_plus_1(\u001b[38;5;241m3\u001b[39m)\n\u001b[0;32m----> 6\u001b[0m \u001b[38;5;28mprint\u001b[39m (\u001b[43mresult\u001b[49m)\n",
      "\u001b[0;31mNameError\u001b[0m: name 'result' is not defined"
     ]
    }
   ],
   "source": [
    "#231\n",
    "def n_plus_1 (n) :\n",
    "    result = n + 1\n",
    "\n",
    "n_plus_1(3)\n",
    "print (result)\n",
    "# 함수 내부에서 사용한 변수는 함수 밖에서는 접근이 불가능하다.\n",
    "# 함수 내부에서 계산한 값을 전달하기 위해서는 return을 사용해야한다\n"
   ]
  },
  {
   "cell_type": "code",
   "execution_count": 2,
   "id": "d6a54310",
   "metadata": {},
   "outputs": [
    {
     "data": {
      "text/plain": [
       "'www.naver.com'"
      ]
     },
     "execution_count": 2,
     "metadata": {},
     "output_type": "execute_result"
    }
   ],
   "source": [
    "#232.\n",
    "def make_url(a):\n",
    "    url = 'www.'+a+'.com'\n",
    "    return url\n",
    "make_url('naver')"
   ]
  },
  {
   "cell_type": "code",
   "execution_count": 3,
   "id": "27a3612c",
   "metadata": {},
   "outputs": [
    {
     "data": {
      "text/plain": [
       "['a', 'b', 'c', 'd']"
      ]
     },
     "execution_count": 3,
     "metadata": {},
     "output_type": "execute_result"
    }
   ],
   "source": [
    "#233.\n",
    "def make_list(a):\n",
    "    list_a = []\n",
    "    for i in a:\n",
    "        list_a.append(i)\n",
    "    return list_a\n",
    "make_list('abcd')"
   ]
  },
  {
   "cell_type": "code",
   "execution_count": 4,
   "id": "0e8a4e74",
   "metadata": {},
   "outputs": [
    {
     "data": {
      "text/plain": [
       "[4, 6, 8]"
      ]
     },
     "execution_count": 4,
     "metadata": {},
     "output_type": "execute_result"
    }
   ],
   "source": [
    "#234.\n",
    "def pickup_even(a):\n",
    "    list_a=[]\n",
    "    for i in a:\n",
    "        if i%2==0:\n",
    "            list_a.append(i)\n",
    "    return list_a\n",
    "pickup_even([3,4,5,6,7,8])"
   ]
  },
  {
   "cell_type": "code",
   "execution_count": 5,
   "id": "b3fda474",
   "metadata": {},
   "outputs": [
    {
     "data": {
      "text/plain": [
       "1234567"
      ]
     },
     "execution_count": 5,
     "metadata": {},
     "output_type": "execute_result"
    }
   ],
   "source": [
    "#235.\n",
    "def convert_int(a):\n",
    "    return int(a.replace(',',''))\n",
    "convert_int('1,234,567')"
   ]
  },
  {
   "cell_type": "code",
   "execution_count": 6,
   "id": "e3ecbf87",
   "metadata": {},
   "outputs": [
    {
     "name": "stdout",
     "output_type": "stream",
     "text": [
      "22\n"
     ]
    }
   ],
   "source": [
    "#236.\n",
    "def 함수(num) :\n",
    "    return num + 4\n",
    "\n",
    "a = 함수(10)\n",
    "b = 함수(a)\n",
    "c = 함수(b)\n",
    "print(c)\n",
    "#22"
   ]
  },
  {
   "cell_type": "code",
   "execution_count": 8,
   "id": "12348ddc",
   "metadata": {},
   "outputs": [
    {
     "name": "stdout",
     "output_type": "stream",
     "text": [
      "22\n"
     ]
    }
   ],
   "source": [
    "#237.\n",
    "def 함수(num) :\n",
    "    return num + 4\n",
    "\n",
    "c = 함수(함수(함수(10)))\n",
    "print(c)\n",
    "#22"
   ]
  },
  {
   "cell_type": "code",
   "execution_count": 9,
   "id": "4a1d333c",
   "metadata": {},
   "outputs": [
    {
     "name": "stdout",
     "output_type": "stream",
     "text": [
      "140\n"
     ]
    }
   ],
   "source": [
    "#238.\n",
    "def 함수1(num) :\n",
    "    return num + 4\n",
    "\n",
    "def 함수2(num) :\n",
    "    return num * 10\n",
    "\n",
    "a = 함수1(10) # 14\n",
    "c = 함수2(a)  # 140\n",
    "print(c)\n",
    "\n"
   ]
  },
  {
   "cell_type": "code",
   "execution_count": 10,
   "id": "b927c43f",
   "metadata": {},
   "outputs": [
    {
     "name": "stdout",
     "output_type": "stream",
     "text": [
      "16\n"
     ]
    }
   ],
   "source": [
    "#239.\n",
    "def 함수1(num) :\n",
    "    return num + 4\n",
    "\n",
    "def 함수2(num) :\n",
    "    num = num + 2\n",
    "    return 함수1(num)\n",
    "\n",
    "c = 함수2(10)\n",
    "print(c)#16"
   ]
  },
  {
   "cell_type": "code",
   "execution_count": 11,
   "id": "ed27808e",
   "metadata": {},
   "outputs": [
    {
     "name": "stdout",
     "output_type": "stream",
     "text": [
      "28\n"
     ]
    }
   ],
   "source": [
    "#240.\n",
    "def 함수0(num) :\n",
    "    return num * 2\n",
    "\n",
    "def 함수1(num) :\n",
    "    return 함수0(num + 2)\n",
    "\n",
    "def 함수2(num) :\n",
    "    num = num + 10\n",
    "    return 함수1(num)\n",
    "\n",
    "c = 함수2(2)\n",
    "print(c)#28"
   ]
  },
  {
   "cell_type": "code",
   "execution_count": 16,
   "id": "e56624d3",
   "metadata": {},
   "outputs": [
    {
     "name": "stdout",
     "output_type": "stream",
     "text": [
      "2022-06-12 23:23:32.036963\n"
     ]
    }
   ],
   "source": [
    "#241.\n",
    "import datetime\n",
    "a=datetime.datetime.now()\n",
    "print(a)"
   ]
  },
  {
   "cell_type": "code",
   "execution_count": 17,
   "id": "6d4048fe",
   "metadata": {},
   "outputs": [
    {
     "name": "stdout",
     "output_type": "stream",
     "text": [
      "2022-06-12 23:27:40.071986 <class 'datetime.datetime'>\n"
     ]
    }
   ],
   "source": [
    "#242.\n",
    "import datetime\n",
    "a=datetime.datetime.now()\n",
    "print(a,type(a))"
   ]
  },
  {
   "cell_type": "code",
   "execution_count": 1,
   "id": "802b18d3",
   "metadata": {},
   "outputs": [
    {
     "name": "stdout",
     "output_type": "stream",
     "text": [
      "2022-06-08 11:13:39.328517\n",
      "2022-06-09 11:13:39.328517\n",
      "2022-06-10 11:13:39.328517\n",
      "2022-06-11 11:13:39.328517\n",
      "2022-06-12 11:13:39.328517\n"
     ]
    }
   ],
   "source": [
    "#243.\n",
    "import datetime\n",
    "\n",
    "now = datetime.datetime.now()\n",
    "\n",
    "for i in range(5,0,-1):\n",
    "    delta = datetime.timedelta(days=i)\n",
    "    date = now - delta\n",
    "    print(date)"
   ]
  },
  {
   "cell_type": "code",
   "execution_count": 4,
   "id": "21112c62",
   "metadata": {},
   "outputs": [
    {
     "name": "stdout",
     "output_type": "stream",
     "text": [
      "11:16:00\n"
     ]
    }
   ],
   "source": [
    "#244.\n",
    "import datetime\n",
    "\n",
    "now = datetime.datetime.now()\n",
    "\n",
    "today_date = now.strftime(\"%H:%M:%S\")\n",
    "print(today_date)"
   ]
  },
  {
   "cell_type": "code",
   "execution_count": 11,
   "id": "ab8add0d",
   "metadata": {},
   "outputs": [
    {
     "name": "stdout",
     "output_type": "stream",
     "text": [
      "2020-05-04 00:00:00 <class 'datetime.datetime'>\n"
     ]
    }
   ],
   "source": [
    "#245.\n",
    "import datetime\n",
    "\n",
    "day = \"2020-05-04\"\n",
    "a = datetime.datetime.strptime(day,'%Y-%m-%d')\n",
    "print(a,type(a))"
   ]
  },
  {
   "cell_type": "code",
   "execution_count": 15,
   "id": "6f8112ea",
   "metadata": {},
   "outputs": [
    {
     "name": "stdout",
     "output_type": "stream",
     "text": [
      "2022-06-13 11:19:30.073146\n",
      "2022-06-13 11:19:31.076886\n",
      "2022-06-13 11:19:32.077639\n",
      "2022-06-13 11:19:33.082159\n",
      "2022-06-13 11:19:34.083136\n",
      "2022-06-13 11:19:35.087505\n",
      "2022-06-13 11:19:36.092453\n",
      "2022-06-13 11:19:37.097631\n",
      "2022-06-13 11:19:38.101684\n",
      "2022-06-13 11:19:39.101930\n",
      "2022-06-13 11:19:40.106333\n",
      "2022-06-13 11:19:41.108475\n",
      "2022-06-13 11:19:42.111887\n",
      "2022-06-13 11:19:43.115223\n",
      "2022-06-13 11:19:44.118545\n"
     ]
    },
    {
     "ename": "KeyboardInterrupt",
     "evalue": "",
     "output_type": "error",
     "traceback": [
      "\u001b[0;31m---------------------------------------------------------------------------\u001b[0m",
      "\u001b[0;31mKeyboardInterrupt\u001b[0m                         Traceback (most recent call last)",
      "Input \u001b[0;32mIn [15]\u001b[0m, in \u001b[0;36m<cell line: 5>\u001b[0;34m()\u001b[0m\n\u001b[1;32m      5\u001b[0m now \u001b[38;5;241m=\u001b[39m datetime\u001b[38;5;241m.\u001b[39mdatetime\u001b[38;5;241m.\u001b[39mnow()\n\u001b[1;32m      6\u001b[0m \u001b[38;5;28mprint\u001b[39m(now)\n\u001b[0;32m----> 7\u001b[0m \u001b[43mtime\u001b[49m\u001b[38;5;241;43m.\u001b[39;49m\u001b[43msleep\u001b[49m\u001b[43m(\u001b[49m\u001b[38;5;241;43m1\u001b[39;49m\u001b[43m)\u001b[49m\n",
      "\u001b[0;31mKeyboardInterrupt\u001b[0m: "
     ]
    }
   ],
   "source": [
    "#246.\n",
    "import time\n",
    "import datetime\n",
    "while(1):\n",
    "    now = datetime.datetime.now()\n",
    "    print(now)\n",
    "    time.sleep(1)"
   ]
  },
  {
   "cell_type": "markdown",
   "id": "b06bf2a6",
   "metadata": {},
   "source": [
    "### 247\n",
    "모듈을 임포트하는 4가지 방식에 대해 설명해보세요.\n",
    "\n",
    "-  1. import 모듈명\n",
    "-  2. from 모듈명 import 함수명\n",
    "-  3. from 모듈명 import *\n",
    "-  4. import 모듈명 as 내가 사용할 이름"
   ]
  },
  {
   "cell_type": "code",
   "execution_count": 16,
   "id": "01081cf8",
   "metadata": {},
   "outputs": [
    {
     "name": "stdout",
     "output_type": "stream",
     "text": [
      "/Users/jeongjiwon/python300 <class 'str'>\n"
     ]
    }
   ],
   "source": [
    "#248.\n",
    "import os\n",
    "a = os.getcwd()\n",
    "print(a,type(a))"
   ]
  },
  {
   "cell_type": "code",
   "execution_count": 17,
   "id": "d4a8073e",
   "metadata": {},
   "outputs": [],
   "source": [
    "#249.\n",
    "import os\n",
    "os.rename(\"/Users/jeongjiwon/1.txt\",\"/Users/jeongjiwon/1-1.txt\")"
   ]
  },
  {
   "cell_type": "code",
   "execution_count": 21,
   "id": "7caf664f",
   "metadata": {},
   "outputs": [
    {
     "name": "stdout",
     "output_type": "stream",
     "text": [
      "[0.  0.1 0.2 0.3 0.4 0.5 0.6 0.7 0.8 0.9 1.  1.1 1.2 1.3 1.4 1.5 1.6 1.7\n",
      " 1.8 1.9 2.  2.1 2.2 2.3 2.4 2.5 2.6 2.7 2.8 2.9 3.  3.1 3.2 3.3 3.4 3.5\n",
      " 3.6 3.7 3.8 3.9 4.  4.1 4.2 4.3 4.4 4.5 4.6 4.7 4.8 4.9]\n",
      "0.0\n",
      "0.1\n",
      "0.2\n",
      "0.30000000000000004\n",
      "0.4\n"
     ]
    }
   ],
   "source": [
    "#250.\n",
    "import numpy as np\n",
    "\n",
    "a = np.arange(0,5,0.1)\n",
    "print(a)\n",
    "for i in np.arange(0.0,0.5,0.1):\n",
    "    print(i)"
   ]
  },
  {
   "cell_type": "markdown",
   "id": "801dfcd6",
   "metadata": {},
   "source": [
    "### 251.\n",
    "- 클래스 : 어떤 틀. 객체를 정의하고 만들기 위한 변수와 메서드의 집합\n",
    "- 객체  : 이런  틀에  의해서 만들어진 하나하나의 와플은 객체\n",
    "- 인스턴스 : 클래스(class)의 객체(object)가 소프트웨어에 실체화되면 이제 그것을 인스턴스(instance)라고 부릅니다."
   ]
  },
  {
   "cell_type": "code",
   "execution_count": 1,
   "id": "8da76056",
   "metadata": {},
   "outputs": [],
   "source": [
    "#252.\n",
    "class Human:\n",
    "    pass"
   ]
  },
  {
   "cell_type": "code",
   "execution_count": 3,
   "id": "4805739a",
   "metadata": {},
   "outputs": [],
   "source": [
    "#253.\n",
    "class Human:\n",
    "    pass\n",
    "areum = Human()"
   ]
  },
  {
   "cell_type": "code",
   "execution_count": 4,
   "id": "806f59b9",
   "metadata": {},
   "outputs": [
    {
     "name": "stdout",
     "output_type": "stream",
     "text": [
      "응애응애\n"
     ]
    }
   ],
   "source": [
    "#254.\n",
    "class Human:\n",
    "    print('응애응애')\n",
    "areum = Human()"
   ]
  },
  {
   "cell_type": "code",
   "execution_count": 5,
   "id": "95e40e19",
   "metadata": {},
   "outputs": [],
   "source": [
    "#255.\n",
    "class Human:\n",
    "    def __init__(self,name,age,sex):\n",
    "        self.name = name\n",
    "        self.age = age\n",
    "        self.sex = sex\n",
    "areum = Human('아름',25,'여자')"
   ]
  },
  {
   "cell_type": "code",
   "execution_count": 6,
   "id": "7b283211",
   "metadata": {},
   "outputs": [
    {
     "name": "stdout",
     "output_type": "stream",
     "text": [
      "25\n"
     ]
    }
   ],
   "source": [
    "#256.\n",
    "class Human:\n",
    "    def __init__(self,name,age,sex):\n",
    "        self.name = name\n",
    "        self.age = age\n",
    "        self.sex = sex\n",
    "areum = Human('아름',25,'여자')\n",
    "print(areum.age)"
   ]
  },
  {
   "cell_type": "code",
   "execution_count": 8,
   "id": "40cb203d",
   "metadata": {},
   "outputs": [
    {
     "name": "stdout",
     "output_type": "stream",
     "text": [
      "이름: 조아름\n",
      "나이: 25\n",
      "성별: 여자\n"
     ]
    }
   ],
   "source": [
    "#257.\n",
    "class Human:\n",
    "    def __init__(self,name,age,sex):\n",
    "        self.name = name\n",
    "        self.age = age\n",
    "        self.sex = sex\n",
    "    def who(self):\n",
    "        print(\"이름:\",self.name)\n",
    "        print('나이:',self.age)\n",
    "        print('성별:',self.sex)\n",
    "areum = Human('조아름',25,'여자')\n",
    "areum.who()"
   ]
  },
  {
   "cell_type": "code",
   "execution_count": 11,
   "id": "67584d4b",
   "metadata": {},
   "outputs": [
    {
     "name": "stdout",
     "output_type": "stream",
     "text": [
      "이름: 모름\n",
      "나이: 0\n",
      "성별: 모름\n",
      "이름: 아름\n",
      "나이: 25\n",
      "성별: 여자\n"
     ]
    }
   ],
   "source": [
    "#258.\n",
    "class Human:\n",
    "    def __init__(self,name,age,sex):\n",
    "        self.name = name\n",
    "        self.age = age\n",
    "        self.sex = sex\n",
    "    def who(self):\n",
    "        print(\"이름:\",self.name)\n",
    "        print('나이:',self.age)\n",
    "        print('성별:',self.sex)\n",
    "    def setInfo(self,name,age,sex):\n",
    "        self.name = name\n",
    "        self.age = age\n",
    "        self.sex = sex\n",
    "areum = Human(\"모름\", 0, \"모름\")\n",
    "areum.who()\n",
    "areum.setInfo(\"아름\", 25, \"여자\")\n",
    "areum.who()"
   ]
  },
  {
   "cell_type": "code",
   "execution_count": 9,
   "id": "871d882f",
   "metadata": {},
   "outputs": [
    {
     "name": "stdout",
     "output_type": "stream",
     "text": [
      "나의 죽음을 알리지마라\n"
     ]
    }
   ],
   "source": [
    "#259.\n",
    "class Human:\n",
    "    def __init__(self,name,age,sex):\n",
    "        self.name = name\n",
    "        self.age = age\n",
    "        self.sex = sex\n",
    "    def __del__(self):\n",
    "        print(\"나의 죽음을 알리지마라\")\n",
    "areum = Human('아름',25,'여자')\n",
    "del areum"
   ]
  },
  {
   "cell_type": "code",
   "execution_count": 2,
   "id": "08ce372a",
   "metadata": {},
   "outputs": [
    {
     "ename": "TypeError",
     "evalue": "print() takes 0 positional arguments but 1 was given",
     "output_type": "error",
     "traceback": [
      "\u001b[0;31m---------------------------------------------------------------------------\u001b[0m",
      "\u001b[0;31mTypeError\u001b[0m                                 Traceback (most recent call last)",
      "Input \u001b[0;32mIn [2]\u001b[0m, in \u001b[0;36m<cell line: 6>\u001b[0;34m()\u001b[0m\n\u001b[1;32m      4\u001b[0m         \u001b[38;5;28mprint\u001b[39m(\u001b[38;5;124m\"\u001b[39m\u001b[38;5;124mOh my god\u001b[39m\u001b[38;5;124m\"\u001b[39m)\n\u001b[1;32m      5\u001b[0m myStock \u001b[38;5;241m=\u001b[39m OMG()\n\u001b[0;32m----> 6\u001b[0m \u001b[43mmyStock\u001b[49m\u001b[38;5;241;43m.\u001b[39;49m\u001b[43mprint\u001b[49m\u001b[43m(\u001b[49m\u001b[43m)\u001b[49m\n",
      "\u001b[0;31mTypeError\u001b[0m: print() takes 0 positional arguments but 1 was given"
     ]
    }
   ],
   "source": [
    "#260.\n",
    "class OMG : \n",
    "    def print() :\n",
    "        print(\"Oh my god\")\n",
    "myStock = OMG()\n",
    "myStock.print()"
   ]
  },
  {
   "cell_type": "code",
   "execution_count": 3,
   "id": "93764a5f",
   "metadata": {},
   "outputs": [],
   "source": [
    "#261\n",
    "class Stock:\n",
    "    pass"
   ]
  },
  {
   "cell_type": "code",
   "execution_count": 4,
   "id": "0f8aab60",
   "metadata": {},
   "outputs": [],
   "source": [
    "#262.\n",
    "class Stock:\n",
    "    def __init__(self,name,number):\n",
    "        self.name = name\n",
    "        self.number = number\n",
    "삼성 = Stock('삼성전자','005930')"
   ]
  },
  {
   "cell_type": "code",
   "execution_count": 5,
   "id": "d51f7d47",
   "metadata": {},
   "outputs": [
    {
     "name": "stdout",
     "output_type": "stream",
     "text": [
      "삼성전자\n"
     ]
    }
   ],
   "source": [
    "#263.\n",
    "class Stock:\n",
    "    def __init__(self,name,number):\n",
    "        self.name = name\n",
    "        self.number = number\n",
    "    def set_name(self,name):\n",
    "        self.name = name\n",
    "a = Stock(None,None)\n",
    "a.set_name('삼성전자')\n",
    "print(a.name)"
   ]
  },
  {
   "cell_type": "code",
   "execution_count": 6,
   "id": "fd25846f",
   "metadata": {},
   "outputs": [
    {
     "name": "stdout",
     "output_type": "stream",
     "text": [
      "005930\n"
     ]
    }
   ],
   "source": [
    "#264.\n",
    "class Stock:\n",
    "    def __init__(self,name,number):\n",
    "        self.name = name\n",
    "        self.number = number\n",
    "    def set_code(self,number):\n",
    "        self.number = number\n",
    "a = Stock(None,None)\n",
    "a.set_code('005930')\n",
    "print(a.number)"
   ]
  },
  {
   "cell_type": "code",
   "execution_count": 10,
   "id": "ce1212fd",
   "metadata": {},
   "outputs": [
    {
     "name": "stdout",
     "output_type": "stream",
     "text": [
      "삼성전자\n",
      "005930\n",
      "삼성전자\n",
      "005930\n"
     ]
    }
   ],
   "source": [
    "#265.\n",
    "class Stock:\n",
    "    def __init__(self,name,number):\n",
    "        self.name = name\n",
    "        self.number = number\n",
    "    def get_name(self):\n",
    "        return self.name\n",
    "    def get_code(self):\n",
    "        return self.number\n",
    "삼성 = Stock(\"삼성전자\", \"005930\")\n",
    "print(삼성.name)\n",
    "print(삼성.number)\n",
    "print(삼성.get_name())\n",
    "print(삼성.get_code())"
   ]
  },
  {
   "cell_type": "code",
   "execution_count": 11,
   "id": "93702e81",
   "metadata": {},
   "outputs": [],
   "source": [
    "#266.\n",
    "class Stock:\n",
    "    def __init__(self, name, code, per, pbr, 배당수익률):\n",
    "        self.name = name\n",
    "        self.code = code\n",
    "        self.per = per\n",
    "        self.pbr = pbr\n",
    "        self.배당수익률 = 배당수익률\n",
    "\n",
    "    def set_name(self, name):\n",
    "        self.name = name\n",
    "\n",
    "    def set_code(self, code):\n",
    "        self.code = code\n",
    "\n",
    "    def get_name(self):\n",
    "        return self.name\n",
    "\n",
    "    def get_code(self):\n",
    "        return self.code"
   ]
  },
  {
   "cell_type": "code",
   "execution_count": 12,
   "id": "a83735a0",
   "metadata": {},
   "outputs": [
    {
     "name": "stdout",
     "output_type": "stream",
     "text": [
      "2.83\n"
     ]
    }
   ],
   "source": [
    "#267.\n",
    "class Stock:\n",
    "    def __init__(self, name, code, per, pbr, 배당수익률):\n",
    "        self.name = name\n",
    "        self.code = code\n",
    "        self.per = per\n",
    "        self.pbr = pbr\n",
    "        self.배당수익률 = 배당수익률\n",
    "\n",
    "    def set_name(self, name):\n",
    "        self.name = name\n",
    "\n",
    "    def set_code(self, code):\n",
    "        self.code = code\n",
    "\n",
    "    def get_name(self):\n",
    "        return self.name\n",
    "\n",
    "    def get_code(self):\n",
    "        return self.code\n",
    "a = Stock('삼성전자','005930',15.79,1.33,2.83)\n",
    "print(a.배당수익률)"
   ]
  },
  {
   "cell_type": "code",
   "execution_count": 13,
   "id": "080e6a3e",
   "metadata": {},
   "outputs": [],
   "source": [
    "#268.\n",
    "class Stock:\n",
    "    def __init__(self, name, code, per, pbr, dividend):\n",
    "        self.name = name\n",
    "        self.code = code\n",
    "        self.per = per\n",
    "        self.pbr = pbr\n",
    "        self.dividend = dividend\n",
    "\n",
    "    def set_name(self, name):\n",
    "        self.name = name\n",
    "\n",
    "    def set_code(self, code):\n",
    "        self.code = code\n",
    "\n",
    "    def get_name(self):\n",
    "        return self.name\n",
    "\n",
    "    def get_code(self):\n",
    "        return self.code\n",
    "    \n",
    "    def set_per(self,per):\n",
    "        self.per = per\n",
    "        \n",
    "    def ser_pbr(self,pbr):\n",
    "        self.pbr = pbr\n",
    "        \n",
    "    def set_dividend(self,dividend):\n",
    "        self.dividend =dibidend"
   ]
  },
  {
   "cell_type": "code",
   "execution_count": 15,
   "id": "83b7c850",
   "metadata": {},
   "outputs": [
    {
     "name": "stdout",
     "output_type": "stream",
     "text": [
      "12.75\n"
     ]
    }
   ],
   "source": [
    "#269.\n",
    "a = Stock('삼성전자','005930',15.79,1.33,2.83)\n",
    "a.set_per(12.75)\n",
    "print(a.per)"
   ]
  },
  {
   "cell_type": "code",
   "execution_count": 16,
   "id": "be47ef17",
   "metadata": {},
   "outputs": [
    {
     "name": "stdout",
     "output_type": "stream",
     "text": [
      "005930 15.79\n",
      "005380 8.7\n",
      "066570 317.34\n"
     ]
    }
   ],
   "source": [
    "#270.\n",
    "class Stock:\n",
    "    def __init__(self, name, code, per, pbr, dividend):\n",
    "        self.name = name\n",
    "        self.code = code\n",
    "        self.per = per\n",
    "        self.pbr = pbr\n",
    "        self.dividend = dividend\n",
    "\n",
    "    def set_name(self, name):\n",
    "        self.name = name\n",
    "\n",
    "    def set_code(self, code):\n",
    "        self.code = code\n",
    "\n",
    "    def get_name(self):\n",
    "        return self.name\n",
    "\n",
    "    def get_code(self):\n",
    "        return self.code\n",
    "    \n",
    "    def set_per(self,per):\n",
    "        self.per = per\n",
    "        \n",
    "    def ser_pbr(self,pbr):\n",
    "        self.pbr = pbr\n",
    "        \n",
    "    def set_dividend(self,dividend):\n",
    "        self.dividend =dibidend\n",
    "\n",
    "a = Stock('삼성전자','005930',15.79,1.33,2.83)\n",
    "b = Stock('현대차','005380',8.70,0.35,4.27)\n",
    "c = Stock('LG전자','066570',317.34,0.69,1.37)\n",
    "list_a = []\n",
    "list_a.append(a)\n",
    "list_a.append(b)\n",
    "list_a.append(c)\n",
    "for i in list_a:\n",
    "    print(i.code,i.per)"
   ]
  },
  {
   "cell_type": "code",
   "execution_count": 1,
   "id": "510bf15f",
   "metadata": {},
   "outputs": [
    {
     "name": "stdout",
     "output_type": "stream",
     "text": [
      "정지원\n",
      "100\n",
      "SC은행\n",
      "365-88-084918\n"
     ]
    }
   ],
   "source": [
    "#271.\n",
    "import random\n",
    "class Account:\n",
    "    def __init__(self,name,balance):\n",
    "        self.name = name\n",
    "        self.balance = balance\n",
    "        self.bank = 'SC은행'\n",
    "        num1 = random.randint(0,999)\n",
    "        num2 = random.randint(0,99)\n",
    "        num3 = random.randint(0,999999)\n",
    "        \n",
    "        num1 = str(num1).zfill(3)\n",
    "        num2 = str(num2).zfill(2)\n",
    "        num3 = str(num3).zfill(6)\n",
    "        \n",
    "        self.account_number = num1 + '-' + num2 + '-' + num3\n",
    "\n",
    "a = Account('정지원',100)\n",
    "print(a.name)\n",
    "print(a.balance)\n",
    "print(a.bank)\n",
    "print(a.account_number)"
   ]
  },
  {
   "cell_type": "code",
   "execution_count": 23,
   "id": "7abcaf75",
   "metadata": {},
   "outputs": [
    {
     "name": "stdout",
     "output_type": "stream",
     "text": [
      "정지원\n",
      "100\n",
      "SC은행\n",
      "873-65-147654\n",
      "1\n",
      "wdwd\n",
      "222\n",
      "SC은행\n",
      "290-12-937275\n",
      "2\n"
     ]
    }
   ],
   "source": [
    "#272.\n",
    "import random\n",
    "class Account:\n",
    "    # class variable\n",
    "    account_cnt = 0\n",
    "    \n",
    "    def __init__(self,name,balance):\n",
    "        self.name = name\n",
    "        self.balance = balance\n",
    "        self.bank = 'SC은행'\n",
    "        num1 = random.randint(0,999)\n",
    "        num2 = random.randint(0,99)\n",
    "        num3 = random.randint(0,999999)\n",
    "        \n",
    "        num1 = str(num1).zfill(3)\n",
    "        num2 = str(num2).zfill(2)\n",
    "        num3 = str(num3).zfill(6)\n",
    "        \n",
    "        self.account_number = num1 + '-' + num2 + '-' + num3\n",
    "        \n",
    "        Account.account_cnt += 1\n",
    "\n",
    "a = Account('정지원',100)\n",
    "print(a.name)\n",
    "print(a.balance)\n",
    "print(a.bank)\n",
    "print(a.account_number)\n",
    "print(a.account_cnt)\n",
    "b = Account('wdwd',222)\n",
    "print(b.name)\n",
    "print(b.balance)\n",
    "print(b.bank)\n",
    "print(b.account_number)\n",
    "print(b.account_cnt)"
   ]
  },
  {
   "cell_type": "code",
   "execution_count": 24,
   "id": "760e06fc",
   "metadata": {},
   "outputs": [
    {
     "name": "stdout",
     "output_type": "stream",
     "text": [
      "2\n"
     ]
    }
   ],
   "source": [
    "#273.\n",
    "import random\n",
    "\n",
    "class Account:\n",
    "    # class variable\n",
    "    account_count = 0\n",
    "\n",
    "    def __init__(self, name, balance):\n",
    "        self.name = name\n",
    "        self.balance = balance\n",
    "        self.bank = \"SC은행\"\n",
    "\n",
    "        # 3-2-6\n",
    "        num1 = random.randint(0, 999)\n",
    "        num2 = random.randint(0, 99)\n",
    "        num3 = random.randint(0, 999999)\n",
    "\n",
    "        num1 = str(num1).zfill(3)      # 1 -> '1' -> '001'\n",
    "        num2 = str(num2).zfill(2)      # 1 -> '1' -> '01'\n",
    "        num3 = str(num3).zfill(6)      # 1 -> '1' -> '0000001'\n",
    "        self.account_number = num1 + '-' + num2 + '-' + num3  # 001-01-000001\n",
    "        Account.account_count +=1\n",
    "\n",
    "    @classmethod\n",
    "    def get_account_num(cls):\n",
    "        print(cls.account_count)     # Account.account_count\n",
    "\n",
    "\n",
    "kim = Account(\"김민수\", 100)\n",
    "lee = Account(\"이민수\", 100)\n",
    "kim.get_account_num()\n"
   ]
  },
  {
   "cell_type": "code",
   "execution_count": 25,
   "id": "e0b9370d",
   "metadata": {},
   "outputs": [
    {
     "name": "stdout",
     "output_type": "stream",
     "text": [
      "2\n"
     ]
    }
   ],
   "source": [
    "#274.\n",
    "import random\n",
    "\n",
    "class Account:\n",
    "    # class variable\n",
    "    account_count = 0\n",
    "\n",
    "    def __init__(self, name, balance):\n",
    "        self.name = name\n",
    "        self.balance = balance\n",
    "        self.bank = \"SC은행\"\n",
    "\n",
    "        # 3-2-6\n",
    "        num1 = random.randint(0, 999)\n",
    "        num2 = random.randint(0, 99)\n",
    "        num3 = random.randint(0, 999999)\n",
    "\n",
    "        num1 = str(num1).zfill(3)      # 1 -> '1' -> '001'\n",
    "        num2 = str(num2).zfill(2)      # 1 -> '1' -> '01'\n",
    "        num3 = str(num3).zfill(6)      # 1 -> '1' -> '0000001'\n",
    "        self.account_number = num1 + '-' + num2 + '-' + num3  # 001-01-000001\n",
    "        Account.account_count +=1\n",
    "\n",
    "    @classmethod\n",
    "    def get_account_num(cls):\n",
    "        print(cls.account_count)     # Account.account_count\n",
    "    \n",
    "    def deposit(self,money):\n",
    "        if money>=1:\n",
    "            self.balance += money\n",
    "\n",
    "\n",
    "kim = Account(\"김민수\", 100)\n",
    "lee = Account(\"이민수\", 100)\n",
    "kim.get_account_num()\n"
   ]
  },
  {
   "cell_type": "code",
   "execution_count": 27,
   "id": "079b9858",
   "metadata": {},
   "outputs": [
    {
     "name": "stdout",
     "output_type": "stream",
     "text": [
      "170\n"
     ]
    }
   ],
   "source": [
    "#275.\n",
    "import random\n",
    "\n",
    "class Account:\n",
    "    # class variable\n",
    "    account_count = 0\n",
    "\n",
    "    def __init__(self, name, balance):\n",
    "        self.name = name\n",
    "        self.balance = balance\n",
    "        self.bank = \"SC은행\"\n",
    "\n",
    "        # 3-2-6\n",
    "        num1 = random.randint(0, 999)\n",
    "        num2 = random.randint(0, 99)\n",
    "        num3 = random.randint(0, 999999)\n",
    "\n",
    "        num1 = str(num1).zfill(3)      # 1 -> '1' -> '001'\n",
    "        num2 = str(num2).zfill(2)      # 1 -> '1' -> '01'\n",
    "        num3 = str(num3).zfill(6)      # 1 -> '1' -> '0000001'\n",
    "        self.account_number = num1 + '-' + num2 + '-' + num3  # 001-01-000001\n",
    "        Account.account_count +=1\n",
    "\n",
    "    @classmethod\n",
    "    def get_account_num(cls):\n",
    "        print(cls.account_count)     # Account.account_count\n",
    "    \n",
    "    def deposit(self,money):\n",
    "        if money>=1:\n",
    "            self.balance += money\n",
    "    def withdraw(self,money):\n",
    "        if self.balance > money:\n",
    "            self.balance -= money\n",
    "\n",
    "a = Account('jeong',100)\n",
    "a.deposit(100)\n",
    "a.withdraw(30)\n",
    "print(a.balance)\n",
    "    "
   ]
  },
  {
   "cell_type": "code",
   "execution_count": 1,
   "id": "37da98f6",
   "metadata": {},
   "outputs": [
    {
     "name": "stdout",
     "output_type": "stream",
     "text": [
      "은행이름:  SC은행\n",
      "예금주: 파이썬\n",
      "계좌번호: 032-62-902280\n",
      "잔고:  100000\n"
     ]
    }
   ],
   "source": [
    "#276.\n",
    "import random\n",
    "\n",
    "class Account:\n",
    "    # class variable\n",
    "    account_count = 0\n",
    "\n",
    "    def __init__(self, name, balance):\n",
    "        self.name = name\n",
    "        self.balance = balance\n",
    "        self.bank = \"SC은행\"\n",
    "\n",
    "        # 3-2-6\n",
    "        num1 = random.randint(0, 999)\n",
    "        num2 = random.randint(0, 99)\n",
    "        num3 = random.randint(0, 999999)\n",
    "\n",
    "        num1 = str(num1).zfill(3)      # 1 -> '1' -> '001'\n",
    "        num2 = str(num2).zfill(2)      # 1 -> '1' -> '01'\n",
    "        num3 = str(num3).zfill(6)      # 1 -> '1' -> '0000001'\n",
    "        self.account_number = num1 + '-' + num2 + '-' + num3  # 001-01-000001\n",
    "        Account.account_count +=1\n",
    "\n",
    "    @classmethod\n",
    "    def get_account_num(cls):\n",
    "        print(cls.account_count)     # Account.account_count\n",
    "    \n",
    "    def deposit(self,money):\n",
    "        if money>=1:\n",
    "            self.balance += money\n",
    "    def withdraw(self,money):\n",
    "        if self.balance > money:\n",
    "            self.balance -= money\n",
    "    def display_info(self):\n",
    "        print('은행이름: ',self.bank)\n",
    "        print('예금주:',self.name)\n",
    "        print('계좌번호:',self.account_number)\n",
    "        print('잔고: ',self.balance)\n",
    "\n",
    "        \n",
    "        \n",
    "a = Account('파이썬',100000)\n",
    "a.display_info()"
   ]
  },
  {
   "cell_type": "code",
   "execution_count": 3,
   "id": "089a850f",
   "metadata": {},
   "outputs": [
    {
     "name": "stdout",
     "output_type": "stream",
     "text": [
      "31111\n"
     ]
    }
   ],
   "source": [
    "#277.\n",
    "import random\n",
    "\n",
    "class Account:\n",
    "    # class variable\n",
    "    account_count = 0\n",
    "\n",
    "    def __init__(self, name, balance):\n",
    "        self.name = name\n",
    "        self.deposit_count = 0\n",
    "        self.balance = balance\n",
    "        self.bank = \"SC은행\"\n",
    "\n",
    "        # 3-2-6\n",
    "        num1 = random.randint(0, 999)\n",
    "        num2 = random.randint(0, 99)\n",
    "        num3 = random.randint(0, 999999)\n",
    "\n",
    "        num1 = str(num1).zfill(3)      # 1 -> '1' -> '001'\n",
    "        num2 = str(num2).zfill(2)      # 1 -> '1' -> '01'\n",
    "        num3 = str(num3).zfill(6)      # 1 -> '1' -> '0000001'\n",
    "        self.account_number = num1 + '-' + num2 + '-' + num3  # 001-01-000001\n",
    "        Account.account_count +=1\n",
    "\n",
    "    @classmethod\n",
    "    def get_account_num(cls):\n",
    "        print(cls.account_count)     # Account.account_count\n",
    "    \n",
    "    def deposit(self,money):\n",
    "        if money>=1:\n",
    "            self.balance += money\n",
    "            \n",
    "            self.deposit_count +=1\n",
    "            if self.deposit_count % 5 == 0:\n",
    "                self.balance *= 1.01\n",
    "    def withdraw(self,money):\n",
    "        if self.balance > money:\n",
    "            self.balance -= money\n",
    "    def display_info(self):\n",
    "        print(\"은행이름: \", self.bank)\n",
    "        print(\"예금주: \", self.name)\n",
    "        print(\"계좌번호: \", self.account_number)\n",
    "        print(\"잔고: \", self.balance)\n",
    "\n",
    "        \n",
    "\n",
    "    a = Account('파이썬',10000)\n",
    "    a.deposit(10000)\n",
    "    a.deposit(11111)\n",
    "    print(a.balance)"
   ]
  },
  {
   "cell_type": "code",
   "execution_count": 10,
   "id": "df691fc9",
   "metadata": {},
   "outputs": [
    {
     "name": "stdout",
     "output_type": "stream",
     "text": [
      "[<__main__.Account object at 0x106935f70>, <__main__.Account object at 0x10690aca0>, <__main__.Account object at 0x10690a040>]\n"
     ]
    }
   ],
   "source": [
    "278.\n",
    "import random\n",
    "\n",
    "class Account:\n",
    "    # class variable\n",
    "    account_count = 0\n",
    "\n",
    "    def __init__(self, name, balance):\n",
    "        self.name = name\n",
    "        self.deposit_count = 0\n",
    "        self.balance = balance\n",
    "        self.bank = \"SC은행\"\n",
    "\n",
    "        # 3-2-6\n",
    "        num1 = random.randint(0, 999)\n",
    "        num2 = random.randint(0, 99)\n",
    "        num3 = random.randint(0, 999999)\n",
    "\n",
    "        num1 = str(num1).zfill(3)      # 1 -> '1' -> '001'\n",
    "        num2 = str(num2).zfill(2)      # 1 -> '1' -> '01'\n",
    "        num3 = str(num3).zfill(6)      # 1 -> '1' -> '0000001'\n",
    "        self.account_number = num1 + '-' + num2 + '-' + num3  # 001-01-000001\n",
    "        Account.account_count +=1\n",
    "\n",
    "    @classmethod\n",
    "    def get_account_num(cls):\n",
    "        print(cls.account_count)     # Account.account_count\n",
    "    \n",
    "    def deposit(self,money):\n",
    "        if money>=1:\n",
    "            self.balance += money\n",
    "            \n",
    "            self.deposit_count +=1\n",
    "            if self.deposit_count % 5 == 0:\n",
    "                self.balance *= 1.01\n",
    "    def withdraw(self,money):\n",
    "        if self.balance > money:\n",
    "            self.balance -= money\n",
    "    def display_info(self):\n",
    "        print(\"은행이름: \", self.bank)\n",
    "        print(\"예금주: \", self.name)\n",
    "        print(\"계좌번호: \", self.account_number)\n",
    "        print(\"잔고: \", self.balance)\n",
    "\n",
    "a = Account('지원',1000000000)\n",
    "b = Account('지투',100000)\n",
    "c = Account('지쓰리',1000000005)\n",
    "d = []\n",
    "d.append(a)\n",
    "d.append(b)\n",
    "d.append(c)\n",
    "print(d)"
   ]
  },
  {
   "cell_type": "code",
   "execution_count": 11,
   "id": "f043f8fa",
   "metadata": {},
   "outputs": [
    {
     "name": "stdout",
     "output_type": "stream",
     "text": [
      "은행이름:  SC은행\n",
      "예금주:  지원\n",
      "계좌번호:  152-99-145535\n",
      "잔고:  1000000000\n",
      "None\n",
      "은행이름:  SC은행\n",
      "예금주:  지쓰리\n",
      "계좌번호:  026-63-540568\n",
      "잔고:  1000000005\n",
      "None\n"
     ]
    }
   ],
   "source": [
    "#279.\n",
    "for i in d:\n",
    "    if i.balance >= 1000000:\n",
    "        print(i.display_info())"
   ]
  },
  {
   "cell_type": "code",
   "execution_count": 14,
   "id": "bde63975",
   "metadata": {},
   "outputs": [
    {
     "name": "stdout",
     "output_type": "stream",
     "text": [
      "100\n",
      "100\n",
      "300\n",
      "100\n",
      "200\n"
     ]
    }
   ],
   "source": [
    "#280.\n",
    "import random\n",
    "\n",
    "class Account:\n",
    "    # class variable\n",
    "    account_count = 0\n",
    "\n",
    "    def __init__(self, name, balance):\n",
    "        self.name = name\n",
    "        self.deposit_count = 0\n",
    "        self.balance = balance\n",
    "        self.bank = \"SC은행\"\n",
    "        self.deposit_log = []\n",
    "        self.withdraw_log = []\n",
    "\n",
    "        # 3-2-6\n",
    "        num1 = random.randint(0, 999)\n",
    "        num2 = random.randint(0, 99)\n",
    "        num3 = random.randint(0, 999999)\n",
    "\n",
    "        num1 = str(num1).zfill(3)      # 1 -> '1' -> '001'\n",
    "        num2 = str(num2).zfill(2)      # 1 -> '1' -> '01'\n",
    "        num3 = str(num3).zfill(6)      # 1 -> '1' -> '0000001'\n",
    "        self.account_number = num1 + '-' + num2 + '-' + num3  # 001-01-000001\n",
    "        Account.account_count +=1\n",
    "\n",
    "    @classmethod\n",
    "    def get_account_num(cls):\n",
    "        print(cls.account_count)     # Account.account_count\n",
    "    \n",
    "    def deposit(self,money):\n",
    "        if money>=1:\n",
    "            self.deposit_log.append(money)\n",
    "            self.balance += money\n",
    "            \n",
    "            self.deposit_count +=1\n",
    "            if self.deposit_count % 5 == 0:\n",
    "                self.balance *= 1.01\n",
    "    def withdraw(self,money):\n",
    "        if self.balance > money:\n",
    "            self.withdraw_log.append(money)\n",
    "            self.balance -= money\n",
    "    def display_info(self):\n",
    "        print(\"은행이름: \", self.bank)\n",
    "        print(\"예금주: \", self.name)\n",
    "        print(\"계좌번호: \", self.account_number)\n",
    "        print(\"잔고: \", self.balance)\n",
    "    \n",
    "    def withdraw_history(self):\n",
    "        for i in self.withdraw_log:\n",
    "            print(i)\n",
    "    def deposit_history(self):\n",
    "        for i in self.deposit_log:\n",
    "            print(i)\n",
    "\n",
    "a = Account('지원',1000)\n",
    "a.deposit(100)\n",
    "a.deposit(100)\n",
    "a.deposit(300)\n",
    "a.deposit_history()\n",
    "a.withdraw(100)\n",
    "a.withdraw(200)\n",
    "a.withdraw_history()"
   ]
  },
  {
   "cell_type": "code",
   "execution_count": 2,
   "id": "6cb8c50a",
   "metadata": {},
   "outputs": [
    {
     "data": {
      "text/plain": [
       "2"
      ]
     },
     "execution_count": 2,
     "metadata": {},
     "output_type": "execute_result"
    }
   ],
   "source": [
    "#281.\n",
    "class Car:\n",
    "    def __init__(self,바퀴,가격):\n",
    "        self.바퀴 = 바퀴\n",
    "        self.가격 = 가격\n",
    "\n",
    "car = Car(2,1000)\n",
    "car.바퀴"
   ]
  },
  {
   "cell_type": "code",
   "execution_count": 3,
   "id": "b1db2785",
   "metadata": {},
   "outputs": [],
   "source": [
    "#282.\n",
    "class 차:\n",
    "    def __init__(self,바퀴,가격):\n",
    "        self.바퀴 = 바퀴\n",
    "        self.가격 = 가격\n",
    "\n",
    "class 자전차(차):\n",
    "    pass "
   ]
  },
  {
   "cell_type": "code",
   "execution_count": 4,
   "id": "f6e6ec1b",
   "metadata": {},
   "outputs": [
    {
     "name": "stdout",
     "output_type": "stream",
     "text": [
      "100\n"
     ]
    }
   ],
   "source": [
    "#283.\n",
    "class 차:\n",
    "    def __init__(self,바퀴,가격):\n",
    "        self.바퀴 = 바퀴\n",
    "        self.가격 = 가격\n",
    "\n",
    "class 자전차(차):\n",
    "    def __init__(self,바퀴,가격):\n",
    "        self.바퀴 = 바퀴\n",
    "        self.가격 = 가격\n",
    "\n",
    "bicycle = 자전차(2,100)\n",
    "print(bicycle.가격)"
   ]
  },
  {
   "cell_type": "code",
   "execution_count": 6,
   "id": "e3cb2ec6",
   "metadata": {},
   "outputs": [
    {
     "data": {
      "text/plain": [
       "'시마노'"
      ]
     },
     "execution_count": 6,
     "metadata": {},
     "output_type": "execute_result"
    }
   ],
   "source": [
    "#284.\n",
    "class 차:\n",
    "    def __init__(self,바퀴,가격):\n",
    "        self.바퀴 = 바퀴\n",
    "        self.가격 = 가격\n",
    "\n",
    "class 자전차(차):\n",
    "    def __init__(self,바퀴,가격,구동계):\n",
    "        self.바퀴 = 바퀴\n",
    "        self.가격 = 가격\n",
    "        self.구동계 = 구동계\n",
    "\n",
    "bicycle = 자전차(2,100,'시마노')\n",
    "bicycle.구동계"
   ]
  },
  {
   "cell_type": "code",
   "execution_count": 7,
   "id": "1760033c",
   "metadata": {},
   "outputs": [
    {
     "name": "stdout",
     "output_type": "stream",
     "text": [
      "바퀴수 4\n",
      "가격 1000\n"
     ]
    }
   ],
   "source": [
    "#285.\n",
    "class 차:\n",
    "    def __init__(self,바퀴,가격):\n",
    "        self.바퀴 = 바퀴\n",
    "        self.가격 = 가격\n",
    "\n",
    "class 자전차(차):\n",
    "    def __init__(self,바퀴,가격):\n",
    "        self.바퀴 = 바퀴\n",
    "        self.가격 = 가격\n",
    "\n",
    "class 자동차(차):\n",
    "    def __init__(self,바퀴,가격):\n",
    "        self.바퀴 = 바퀴\n",
    "        self.가격 = 가격\n",
    "    def 정보(self):\n",
    "        print('바퀴수',self.바퀴)\n",
    "        print('가격',self.가격)\n",
    "\n",
    "car = 자동차(4,1000)\n",
    "car.정보()"
   ]
  },
  {
   "cell_type": "code",
   "execution_count": 9,
   "id": "b155e92a",
   "metadata": {},
   "outputs": [
    {
     "name": "stdout",
     "output_type": "stream",
     "text": [
      "바퀴수 2\n",
      "가격 100\n"
     ]
    }
   ],
   "source": [
    "#286.\n",
    "class 차:\n",
    "    def __init__(self,바퀴,가격):\n",
    "        self.바퀴 = 바퀴\n",
    "        self.가격 = 가격\n",
    "    def 정보(self):\n",
    "        print('바퀴수',self.바퀴)\n",
    "        print('가격',self.가격)\n",
    "\n",
    "class 자전차(차):\n",
    "    def __init__(self,바퀴,가격,구동계):\n",
    "        super().__init__(바퀴,가격) # 부모클래스의 __init__ 메소드 호출\n",
    "        self.구동계 = 구동계\n",
    "\n",
    "class 자동차(차):\n",
    "    def __init__(self,바퀴,가격):\n",
    "        super().__init__(바퀴,가격) # 부모클래스의 __init__ 메소드 호출\n",
    "        \n",
    "bicycle = 자전차(2,100,'시마노')\n",
    "bicycle.정보()\n"
   ]
  },
  {
   "cell_type": "code",
   "execution_count": 10,
   "id": "38477039",
   "metadata": {},
   "outputs": [
    {
     "name": "stdout",
     "output_type": "stream",
     "text": [
      "바퀴수 2\n",
      "가격 100\n",
      "구동계 시마노\n"
     ]
    }
   ],
   "source": [
    "#287.\n",
    "class 차:\n",
    "    def __init__(self,바퀴,가격):\n",
    "        self.바퀴 = 바퀴\n",
    "        self.가격 = 가격\n",
    "    def 정보(self):\n",
    "        print('바퀴수',self.바퀴)\n",
    "        print('가격',self.가격)\n",
    "\n",
    "class 자전차(차):\n",
    "    def __init__(self,바퀴,가격,구동계):\n",
    "        super().__init__(바퀴,가격) # 부모클래스의 __init__ 메소드 호출\n",
    "        self.구동계 = 구동계\n",
    "    def 정보(self):\n",
    "        super().정보()\n",
    "        print('구동계',self.구동계)\n",
    "        \n",
    "class 자동차(차):\n",
    "    def __init__(self,바퀴,가격):\n",
    "        super().__init__(바퀴,가격) # 부모클래스의 __init__ 메소드 호출\n",
    "\n",
    "bicycle = 자전차(2,100,'시마노')\n",
    "bicycle.정보()"
   ]
  },
  {
   "cell_type": "code",
   "execution_count": 14,
   "id": "5ac31c7a",
   "metadata": {},
   "outputs": [
    {
     "name": "stdout",
     "output_type": "stream",
     "text": [
      "자식호출\n"
     ]
    }
   ],
   "source": [
    "#288.\n",
    "class 부모:\n",
    "    def 호출(self):\n",
    "        print(\"부모호출\")\n",
    "\n",
    "class 자식(부모):\n",
    "    def 호출(self):\n",
    "#         super().호출()\n",
    "        print(\"자식호출\")\n",
    "나 = 자식()\n",
    "나.호출()"
   ]
  },
  {
   "cell_type": "code",
   "execution_count": 16,
   "id": "1a018d4f",
   "metadata": {},
   "outputs": [
    {
     "name": "stdout",
     "output_type": "stream",
     "text": [
      "부모생성\n",
      "자식생성\n"
     ]
    }
   ],
   "source": [
    "#289.\n",
    "class 부모:\n",
    "    def __init__(self):\n",
    "        print(\"부모생성\")\n",
    "\n",
    "class 자식(부모):\n",
    "    def __init__(self):\n",
    "        super().__init__()\n",
    "        print(\"자식생성\")\n",
    "나 = 자식()"
   ]
  },
  {
   "cell_type": "code",
   "execution_count": 17,
   "id": "f781c73b",
   "metadata": {},
   "outputs": [
    {
     "name": "stdout",
     "output_type": "stream",
     "text": [
      "자식생성\n",
      "부모생성\n"
     ]
    }
   ],
   "source": [
    "#290.\n",
    "class 부모:\n",
    "    def __init__(self):\n",
    "        print(\"부모생성\")\n",
    "\n",
    "class 자식(부모):\n",
    "    def __init__(self):\n",
    "        print(\"자식생성\")\n",
    "        super().__init__()\n",
    "나 = 자식()"
   ]
  },
  {
   "cell_type": "code",
   "execution_count": 11,
   "id": "20c24ae9",
   "metadata": {},
   "outputs": [],
   "source": [
    "#291.\n",
    "f = open('/Users/jeongjiwon/python300/매수종목1.txt',mode='wt',encoding='utf-8')\n",
    "f.write('005930\\n')\n",
    "f.write('005380\\n')\n",
    "f.write('035420\\n')\n",
    "f.close()"
   ]
  },
  {
   "cell_type": "code",
   "execution_count": 12,
   "id": "02819312",
   "metadata": {},
   "outputs": [],
   "source": [
    "#292.\n",
    "f = open('/Users/jeongjiwon/python300/매수종목2.txt',mode='wt',encoding='utf-8')\n",
    "\n",
    "f.write('005930 삼성전자\\n')\n",
    "f.write('005380 현대차\\n')\n",
    "f.write('035420 NAVER\\n')\n",
    "f.close()\n"
   ]
  },
  {
   "cell_type": "code",
   "execution_count": 13,
   "id": "ee2483ae",
   "metadata": {},
   "outputs": [],
   "source": [
    "#293.\n",
    "import csv\n",
    "\n",
    "f = open('/Users/jeongjiwon/python300/매수종목1.csv',mode='wt',encoding='utf-8',newline='')\n",
    "\n",
    "wr = csv.writer(f)\n",
    "wr.writerow(['종목명','종목코드','PER'])\n",
    "wr.writerow(['삼성전자','005930',15.59])\n",
    "wr.writerow(['NAVER','035420',55.82])\n",
    "\n",
    "f.close()"
   ]
  },
  {
   "cell_type": "code",
   "execution_count": 15,
   "id": "b1074d0e",
   "metadata": {},
   "outputs": [
    {
     "name": "stdout",
     "output_type": "stream",
     "text": [
      "['005930', '005380', '035420']\n"
     ]
    }
   ],
   "source": [
    "#294.\n",
    "f = open('/Users/jeongjiwon/python300/매수종목1.txt', encoding='utf-8')\n",
    "\n",
    "lines = f.readlines()\n",
    "# readlines 함수는 파일의 모든 줄을 읽어서 각각의 줄을 요소로 갖는 리스트로 돌려준다. \n",
    "codes = []\n",
    "for line in lines:\n",
    "    code = line.strip()\n",
    "    codes.append(code)\n",
    "\n",
    "f.close()\n",
    "print(codes)"
   ]
  },
  {
   "cell_type": "code",
   "execution_count": 16,
   "id": "559e023b",
   "metadata": {},
   "outputs": [
    {
     "name": "stdout",
     "output_type": "stream",
     "text": [
      "{'005930': '삼성전자', '005380': '현대차', '035420': 'NAVER'}\n"
     ]
    }
   ],
   "source": [
    "#295.\n",
    "f = open('/Users/jeongjiwon/python300/매수종목2.txt',encoding='utf-8')\n",
    "\n",
    "lines = f.readlines()\n",
    "data = {}\n",
    "\n",
    "for line in lines:\n",
    "    line = line.strip()\n",
    "    k, v = line.split()\n",
    "    \n",
    "    data[k] = v\n",
    "print(data)\n",
    "f.close()\n"
   ]
  },
  {
   "cell_type": "code",
   "execution_count": 18,
   "id": "e7357644",
   "metadata": {},
   "outputs": [
    {
     "name": "stdout",
     "output_type": "stream",
     "text": [
      "10.31\n",
      "0\n",
      "8.0\n"
     ]
    }
   ],
   "source": [
    "#296.\n",
    "per = [\"10.31\", \"\", \"8.00\"]\n",
    "\n",
    "for i in per:\n",
    "    try:\n",
    "        print(float(i))\n",
    "    except:\n",
    "        print(0)"
   ]
  },
  {
   "cell_type": "code",
   "execution_count": 19,
   "id": "e87d4203",
   "metadata": {},
   "outputs": [
    {
     "name": "stdout",
     "output_type": "stream",
     "text": [
      "[10.31, 0, 8.0]\n"
     ]
    }
   ],
   "source": [
    "#297.\n",
    "per = [\"10.31\", \"\", \"8.00\"]\n",
    "\n",
    "a = []\n",
    "\n",
    "for i in per:\n",
    "    try:\n",
    "        b = float(i)\n",
    "    except:\n",
    "        b = 0\n",
    "    a.append(b)\n",
    "print(a)"
   ]
  },
  {
   "cell_type": "code",
   "execution_count": 20,
   "id": "5585d195",
   "metadata": {},
   "outputs": [
    {
     "name": "stdout",
     "output_type": "stream",
     "text": [
      "0으로 나누면 안되요\n"
     ]
    },
    {
     "data": {
      "text/plain": [
       "'\\ntry:\\n    예외가 발생할 가능성이 있는 코드\\n    \\nexcept:\\n    예외가 발생했을 때 실행할 코드\\n    ~~~~~~코드~~~~~~\\n'"
      ]
     },
     "execution_count": 20,
     "metadata": {},
     "output_type": "execute_result"
    }
   ],
   "source": [
    "#298.\n",
    "\n",
    "try:\n",
    "    b = 3 / 0\n",
    "except ZeroDivisionError:\n",
    "    print('0으로 나누면 안되요')\n",
    "    \n",
    "'''\n",
    "try:\n",
    "    예외가 발생할 가능성이 있는 코드\n",
    "    \n",
    "except:\n",
    "    예외가 발생했을 때 실행할 코드\n",
    "    ~~~~~~코드~~~~~~\n",
    "'''"
   ]
  },
  {
   "cell_type": "code",
   "execution_count": 21,
   "id": "4f6335ab",
   "metadata": {},
   "outputs": [
    {
     "name": "stdout",
     "output_type": "stream",
     "text": [
      "1\n",
      "2\n",
      "3\n",
      "list index out of range\n",
      "list index out of range\n"
     ]
    }
   ],
   "source": [
    "#299.\n",
    "\n",
    "data = [1, 2, 3]\n",
    "for i in range(5):\n",
    "    try:\n",
    "        print(data[i])\n",
    "    except IndexError as e:\n",
    "        print(e)\n",
    "    "
   ]
  },
  {
   "cell_type": "code",
   "execution_count": 22,
   "id": "14b423de",
   "metadata": {},
   "outputs": [
    {
     "name": "stdout",
     "output_type": "stream",
     "text": [
      "10.31\n",
      "clean data\n",
      "변환 완료\n",
      "0\n",
      "변환 완료\n",
      "8.0\n",
      "clean data\n",
      "변환 완료\n"
     ]
    }
   ],
   "source": [
    "#300.\n",
    "per = [\"10.31\", \"\", \"8.00\"]\n",
    "\n",
    "for i in per:\n",
    "    try:\n",
    "        print(float(i))\n",
    "    except:\n",
    "        print(0)\n",
    "    else: # else절은 예외가 발생하지 않아 except절을 실행하지 않았을 경우 실행되는 절\n",
    "        print('clean data')\n",
    "    finally: # finally 절은 tryp\n",
    "        print('변환 완료')"
   ]
  }
 ],
 "metadata": {
  "kernelspec": {
   "display_name": "Python 3 (ipykernel)",
   "language": "python",
   "name": "python3"
  },
  "language_info": {
   "codemirror_mode": {
    "name": "ipython",
    "version": 3
   },
   "file_extension": ".py",
   "mimetype": "text/x-python",
   "name": "python",
   "nbconvert_exporter": "python",
   "pygments_lexer": "ipython3",
   "version": "3.9.12"
  }
 },
 "nbformat": 4,
 "nbformat_minor": 5
}
